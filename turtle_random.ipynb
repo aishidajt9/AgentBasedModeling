{
 "cells": [
  {
   "cell_type": "code",
   "execution_count": 1,
   "source": [
    "import turtle\r\n",
    "import random\r\n",
    "\r\n",
    "n_turtles = 10\r\n",
    "wn = turtle.Screen()\r\n",
    "\r\n",
    "kames = [turtle.Turtle() for i in range(n_turtles)]\r\n",
    "colours=[\"red\",\"blue\",\"yellow\",\"brown\",\"black\",\"purple\",\"green\"]\r\n",
    "\r\n",
    "for i, t in enumerate(kames):\r\n",
    "    t.shape('turtle')\r\n",
    "    t.color(colours[i%7])\r\n",
    "    t.speed(0)\r\n",
    "    t.goto(random.randrange(-100, 100), random.randrange(-100, 100))\r\n",
    "\r\n",
    "def random_walk(ts, steps):\r\n",
    "    for steps in range(steps):\r\n",
    "        for t in ts:\r\n",
    "            t.forward(random.randrange(0, 50))\r\n",
    "            t.right(random.randrange(0,180))\r\n",
    "\r\n",
    "random_walk(kames, 100)\r\n",
    "\r\n",
    "wn.exitonclick()"
   ],
   "outputs": [],
   "metadata": {}
  },
  {
   "cell_type": "code",
   "execution_count": null,
   "source": [],
   "outputs": [],
   "metadata": {}
  },
  {
   "cell_type": "code",
   "execution_count": null,
   "source": [],
   "outputs": [],
   "metadata": {}
  }
 ],
 "metadata": {
  "kernelspec": {
   "name": "python3",
   "display_name": "Python 3.8.8 64-bit ('base': conda)"
  },
  "language_info": {
   "codemirror_mode": {
    "name": "ipython",
    "version": 3
   },
   "file_extension": ".py",
   "mimetype": "text/x-python",
   "name": "python",
   "nbconvert_exporter": "python",
   "pygments_lexer": "ipython3",
   "version": "3.8.8"
  },
  "interpreter": {
   "hash": "71c8d2e717b061ce967b4ebfe17625d3e606571fe5b924e7991b5e1abc7ad8fb"
  }
 },
 "nbformat": 4,
 "nbformat_minor": 2
}